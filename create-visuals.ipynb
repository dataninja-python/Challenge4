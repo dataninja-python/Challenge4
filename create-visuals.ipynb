{
 "cells": [
  {
   "cell_type": "code",
   "execution_count": 1,
   "metadata": {},
   "outputs": [
    {
     "data": {
      "text/html": [
       "<script>\n",
       "  function code_toggle() {\n",
       "    if (code_shown){\n",
       "      $('div.input').hide('500');\n",
       "      $('#toggleButton').val('Show Code')\n",
       "    } else {\n",
       "      $('div.input').show('500');\n",
       "      $('#toggleButton').val('Hide Code')\n",
       "    }\n",
       "    code_shown = !code_shown\n",
       "  }\n",
       "\n",
       "  $( document ).ready(function(){\n",
       "    code_shown=false;\n",
       "    $('div.input').hide()\n",
       "  });\n",
       "</script>\n",
       "<form action=\"javascript:code_toggle()\"><input type=\"submit\" id=\"toggleButton\" value=\"Show Code\"></form>"
      ],
      "text/plain": [
       "<IPython.core.display.HTML object>"
      ]
     },
     "metadata": {},
     "output_type": "display_data"
    }
   ],
   "source": [
    "%%html\n",
    "<script>\n",
    "  function code_toggle() {\n",
    "    if (code_shown){\n",
    "      $('div.input').hide('500');\n",
    "      $('#toggleButton').val('Show Code')\n",
    "    } else {\n",
    "      $('div.input').show('500');\n",
    "      $('#toggleButton').val('Hide Code')\n",
    "    }\n",
    "    code_shown = !code_shown\n",
    "  }\n",
    "\n",
    "  $( document ).ready(function(){\n",
    "    code_shown=false;\n",
    "    $('div.input').hide()\n",
    "  });\n",
    "</script>\n",
    "<form action=\"javascript:code_toggle()\"><input type=\"submit\" id=\"toggleButton\" value=\"Show Code\"></form>"
   ]
  },
  {
   "cell_type": "markdown",
   "metadata": {},
   "source": [
    "<html>\n",
    "<body>\n",
    "\n",
    "\n",
    "<dt>Thinkful Assignment</dt>\n",
    "<dd>Unit 2 | Lesson 2 | Challenge 4</dd>\n",
    "\n",
    "<ul>\n",
    "    <li>Purpose: to show ability to draw logical inferences by visualizing data.</li>\n",
    "    <li>Data: historical import and export data by country</li>\n",
    "    <li>Source: the international monetary fund website</li>\n",
    "    <li>By: AJ Igherighe | Aspiring Data Scientist</li>\n",
    "    <li><b>Note:</b> This notebook focuses on visualizing the data and drawing inferences</li>\n",
    "</ul>\n",
    "<br>\n",
    "<b>Assignment Milestones</b>\n",
    "<ul>\n",
    "    <li> Load cleaned dataset</li>\n",
    "    <li> Select two countries to analyze in greater detail</li>\n",
    "    <li> Create a series of visualizations (minimum of 4)</li>\n",
    "    <li> Infer what each visualization says about the dataset</li>\n",
    "</ul>\n",
    "\n",
    "</body>\n",
    "</html>"
   ]
  },
  {
   "cell_type": "markdown",
   "metadata": {},
   "source": [
    "<html>\n",
    "    <body>\n",
    "        <dt>Import modules used in analysis</dt>\n",
    "        <ul>\n",
    "            <li>Pandas and numpy for data analysis</li>\n",
    "            <li>Matplotlib and seaborn for visualization</li>\n",
    "            <li>Other items to improve functionality of notebook</li>\n",
    "        </ul>\n",
    "    </body>\n",
    "</html>"
   ]
  },
  {
   "cell_type": "code",
   "execution_count": 2,
   "metadata": {},
   "outputs": [],
   "source": [
    "import matplotlib.pyplot as plt\n",
    "import matplotlib.pylab as plb\n",
    "import numpy as np\n",
    "import pandas as pd\n",
    "import pickle\n",
    "import seaborn\n",
    "import copy\n",
    "\n",
    "# display dataframe head and tail views as formatted tables\n",
    "from IPython.core.interactiveshell import InteractiveShell\n",
    "InteractiveShell.ast_node_interactivity = \"all\"\n",
    "\n",
    "%matplotlib inline"
   ]
  },
  {
   "cell_type": "markdown",
   "metadata": {},
   "source": [
    "<html>\n",
    "    <body>\n",
    "        <dt>Load data</dt>\n",
    "        <ul>\n",
    "            <li>Read cleaned data into dataframe</li>\n",
    "            <li>Use .head() to verify it is desired data</li>\n",
    "        </ul>\n",
    "    </body>\n",
    "</html>"
   ]
  },
  {
   "cell_type": "code",
   "execution_count": 3,
   "metadata": {},
   "outputs": [
    {
     "data": {
      "text/html": [
       "<div>\n",
       "<style scoped>\n",
       "    .dataframe tbody tr th:only-of-type {\n",
       "        vertical-align: middle;\n",
       "    }\n",
       "\n",
       "    .dataframe tbody tr th {\n",
       "        vertical-align: top;\n",
       "    }\n",
       "\n",
       "    .dataframe thead th {\n",
       "        text-align: right;\n",
       "    }\n",
       "</style>\n",
       "<table border=\"1\" class=\"dataframe\">\n",
       "  <thead>\n",
       "    <tr style=\"text-align: right;\">\n",
       "      <th></th>\n",
       "      <th>COUNTRY</th>\n",
       "      <th>FLOW</th>\n",
       "      <th>TRADE</th>\n",
       "      <th>FLOW_ADJ</th>\n",
       "      <th>TRADE_ADJ</th>\n",
       "    </tr>\n",
       "    <tr>\n",
       "      <th>YEAR</th>\n",
       "      <th></th>\n",
       "      <th></th>\n",
       "      <th></th>\n",
       "      <th></th>\n",
       "      <th></th>\n",
       "    </tr>\n",
       "  </thead>\n",
       "  <tbody>\n",
       "    <tr>\n",
       "      <th>2016</th>\n",
       "      <td>Afghanistan</td>\n",
       "      <td>Import</td>\n",
       "      <td>6534140413</td>\n",
       "      <td>Import</td>\n",
       "      <td>-6534140413</td>\n",
       "    </tr>\n",
       "    <tr>\n",
       "      <th>2016</th>\n",
       "      <td>Afghanistan</td>\n",
       "      <td>Export</td>\n",
       "      <td>596455337</td>\n",
       "      <td>Export</td>\n",
       "      <td>596455337</td>\n",
       "    </tr>\n",
       "    <tr>\n",
       "      <th>2015</th>\n",
       "      <td>Afghanistan</td>\n",
       "      <td>Import</td>\n",
       "      <td>7722865049</td>\n",
       "      <td>Import</td>\n",
       "      <td>-7722865049</td>\n",
       "    </tr>\n",
       "    <tr>\n",
       "      <th>2015</th>\n",
       "      <td>Afghanistan</td>\n",
       "      <td>Export</td>\n",
       "      <td>571404967</td>\n",
       "      <td>Export</td>\n",
       "      <td>571404967</td>\n",
       "    </tr>\n",
       "    <tr>\n",
       "      <th>2014</th>\n",
       "      <td>Afghanistan</td>\n",
       "      <td>Import</td>\n",
       "      <td>7697178170</td>\n",
       "      <td>Import</td>\n",
       "      <td>-7697178170</td>\n",
       "    </tr>\n",
       "  </tbody>\n",
       "</table>\n",
       "</div>"
      ],
      "text/plain": [
       "          COUNTRY    FLOW       TRADE FLOW_ADJ   TRADE_ADJ\n",
       "YEAR                                                      \n",
       "2016  Afghanistan  Import  6534140413   Import -6534140413\n",
       "2016  Afghanistan  Export   596455337   Export   596455337\n",
       "2015  Afghanistan  Import  7722865049   Import -7722865049\n",
       "2015  Afghanistan  Export   571404967   Export   571404967\n",
       "2014  Afghanistan  Import  7697178170   Import -7697178170"
      ]
     },
     "execution_count": 3,
     "metadata": {},
     "output_type": "execute_result"
    }
   ],
   "source": [
    "# load the cleaned dataframe\n",
    "dataframe_filename = 'originaldataframe.pickle'\n",
    "data_clean = pd.read_pickle(dataframe_filename)\n",
    "data_clean.head()\n",
    "\n",
    "# reset index to allow grouping and summing by year\n",
    "data_clean = data_clean.reset_index()"
   ]
  },
  {
   "cell_type": "markdown",
   "metadata": {},
   "source": [
    "<html>\n",
    "    <body>\n",
    "        <dt>Focus analysis</dt>\n",
    "        <ul>\n",
    "            <li>Create a list of available countries</li>\n",
    "            <li>Select two countries to examine</li>\n",
    "            <li>Store countries in two new dataframes</li>\n",
    "            <li>Use .head() to verify the desired data is captured</li>\n",
    "        </ul>\n",
    "    </body>\n",
    "</html>"
   ]
  },
  {
   "cell_type": "code",
   "execution_count": 4,
   "metadata": {},
   "outputs": [
    {
     "name": "stdout",
     "output_type": "stream",
     "text": [
      "['Afghanistan', 'Albania', 'Algeria', 'Andorra', 'Angola', 'Anguilla', 'Antigua and Barbuda', 'Argentina', 'Armenia', 'Aruba', 'Australia', 'Austria', 'Azerbaijan', 'Bahamas', 'Bahrain', 'Bangladesh', 'Barbados', 'Belarus', 'Belgium', 'Belgium-Luxembourg', 'Belize', 'Benin', 'Bermuda', 'Bhutan', 'Bolivia (Plurinational State of)', 'Bosnia Herzegovina', 'Botswana', 'Brazil', 'Brunei Darussalam', 'Bulgaria', 'Burkina Faso', 'Burundi', 'Cabo Verde', 'Cambodia', 'Cameroon', 'Canada', 'Cayman Isds', 'Central African Rep.', 'Chad', 'Chile', 'China', 'China, Hong Kong SAR', 'China, Macao SAR', 'Colombia', 'Comoros', 'Congo', 'Cook Isds', 'Costa Rica', \"Côte d'Ivoire\", 'Croatia', 'Cuba', 'Cyprus', 'Czech Rep.', 'Denmark', 'Djibouti', 'Dominica', 'Dominican Rep.', 'Ecuador', 'Egypt', 'El Salvador', 'Eritrea', 'Estonia', 'Ethiopia', 'EU-28', 'Faeroe Isds', 'Fiji', 'Finland', 'Fmr Fed. Rep. of Germany', 'Fmr Sudan', 'France', 'French Guiana', 'French Polynesia', 'FS Micronesia', 'Gabon', 'Gambia', 'Georgia', 'Germany', 'Ghana', 'Greece', 'Greenland', 'Grenada', 'Guadeloupe', 'Guatemala', 'Guinea', 'Guinea-Bissau', 'Guyana', 'Haiti', 'Honduras', 'Hungary', 'Iceland', 'India', 'Indonesia', 'Iran', 'Iraq', 'Ireland', 'Israel', 'Italy', 'Jamaica', 'Japan', 'Jordan', 'Kazakhstan', 'Kenya', 'Kiribati', 'Kuwait', 'Kyrgyzstan', \"Lao People's Dem. Rep.\", 'Latvia', 'Lebanon', 'Lesotho', 'Libya', 'Lithuania', 'Luxembourg', 'Madagascar', 'Malawi', 'Malaysia', 'Maldives', 'Mali', 'Malta', 'Martinique', 'Mauritania', 'Mauritius', 'Mayotte', 'Mexico', 'Mongolia', 'Montenegro', 'Montserrat', 'Morocco', 'Mozambique', 'Myanmar', 'Namibia', 'Nepal', 'Neth. Antilles', 'Netherlands', 'New Caledonia', 'New Zealand', 'Nicaragua', 'Niger', 'Nigeria', 'Norway', 'Oman', 'Other Asia, nes', 'Pakistan', 'Palau', 'Panama', 'Papua New Guinea', 'Paraguay', 'Peru', 'Philippines', 'Poland', 'Portugal', 'Qatar', 'Rep. of Korea', 'Rep. of Moldova', 'Réunion', 'Romania', 'Russian Federation', 'Rwanda', 'Saint Kitts and Nevis', 'Saint Lucia', 'Saint Vincent and the Grenadines', 'Samoa', 'Sao Tome and Principe', 'Saudi Arabia', 'Senegal', 'Serbia', 'Serbia and Montenegro', 'Seychelles', 'Sierra Leone', 'Singapore', 'Slovakia', 'Slovenia', 'So. African Customs Union', 'Solomon Isds', 'South Africa', 'Spain', 'Sri Lanka', 'State of Palestine', 'Sudan', 'Suriname', 'Swaziland', 'Sweden', 'Switzerland', 'Syria', 'Tajikistan', 'TFYR of Macedonia', 'Thailand', 'Timor-Leste', 'Togo', 'Tonga', 'Trinidad and Tobago', 'Tunisia', 'Turkey', 'Turkmenistan', 'Turks and Caicos Isds', 'Tuvalu', 'Uganda', 'Ukraine', 'United Arab Emirates', 'United Kingdom', 'United Rep. of Tanzania', 'Uruguay', 'USA', 'Vanuatu', 'Venezuela', 'Viet Nam', 'Wallis and Futuna Isds', 'Yemen', 'Zambia', 'Zimbabwe']\n"
     ]
    }
   ],
   "source": [
    "all_countries = list(pd.Series.unique(data_clean['COUNTRY'].copy()))\n",
    "print(all_countries)"
   ]
  },
  {
   "cell_type": "markdown",
   "metadata": {},
   "source": [
    "<html>\n",
    "    <body>\n",
    "        <dt>Select countries</dt>\n",
    "        <ul>\n",
    "            <li>Create new dataframes with data from desired countries</li>\n",
    "            <li>Use .head() to verify the desired data is captured</li>\n",
    "        </ul>\n",
    "    </body>\n",
    "</html>"
   ]
  },
  {
   "cell_type": "code",
   "execution_count": 5,
   "metadata": {},
   "outputs": [
    {
     "data": {
      "text/html": [
       "<div>\n",
       "<style scoped>\n",
       "    .dataframe tbody tr th:only-of-type {\n",
       "        vertical-align: middle;\n",
       "    }\n",
       "\n",
       "    .dataframe tbody tr th {\n",
       "        vertical-align: top;\n",
       "    }\n",
       "\n",
       "    .dataframe thead th {\n",
       "        text-align: right;\n",
       "    }\n",
       "</style>\n",
       "<table border=\"1\" class=\"dataframe\">\n",
       "  <thead>\n",
       "    <tr style=\"text-align: right;\">\n",
       "      <th></th>\n",
       "      <th>YEAR</th>\n",
       "      <th>COUNTRY</th>\n",
       "      <th>FLOW</th>\n",
       "      <th>TRADE</th>\n",
       "      <th>FLOW_ADJ</th>\n",
       "      <th>TRADE_ADJ</th>\n",
       "    </tr>\n",
       "  </thead>\n",
       "  <tbody>\n",
       "    <tr>\n",
       "      <th>8884</th>\n",
       "      <td>2016</td>\n",
       "      <td>USA</td>\n",
       "      <td>Import</td>\n",
       "      <td>2249660890432</td>\n",
       "      <td>Import</td>\n",
       "      <td>-2249660890432</td>\n",
       "    </tr>\n",
       "    <tr>\n",
       "      <th>8885</th>\n",
       "      <td>2016</td>\n",
       "      <td>USA</td>\n",
       "      <td>Export</td>\n",
       "      <td>1453167147951</td>\n",
       "      <td>Export</td>\n",
       "      <td>1453167147951</td>\n",
       "    </tr>\n",
       "    <tr>\n",
       "      <th>8886</th>\n",
       "      <td>2016</td>\n",
       "      <td>USA</td>\n",
       "      <td>Re-Export</td>\n",
       "      <td>223965303085</td>\n",
       "      <td>Export</td>\n",
       "      <td>223965303085</td>\n",
       "    </tr>\n",
       "    <tr>\n",
       "      <th>8887</th>\n",
       "      <td>2015</td>\n",
       "      <td>USA</td>\n",
       "      <td>Import</td>\n",
       "      <td>2313424569327</td>\n",
       "      <td>Import</td>\n",
       "      <td>-2313424569327</td>\n",
       "    </tr>\n",
       "    <tr>\n",
       "      <th>8888</th>\n",
       "      <td>2015</td>\n",
       "      <td>USA</td>\n",
       "      <td>Export</td>\n",
       "      <td>1501845863839</td>\n",
       "      <td>Export</td>\n",
       "      <td>1501845863839</td>\n",
       "    </tr>\n",
       "  </tbody>\n",
       "</table>\n",
       "</div>"
      ],
      "text/plain": [
       "      YEAR COUNTRY       FLOW          TRADE FLOW_ADJ      TRADE_ADJ\n",
       "8884  2016     USA     Import  2249660890432   Import -2249660890432\n",
       "8885  2016     USA     Export  1453167147951   Export  1453167147951\n",
       "8886  2016     USA  Re-Export   223965303085   Export   223965303085\n",
       "8887  2015     USA     Import  2313424569327   Import -2313424569327\n",
       "8888  2015     USA     Export  1501845863839   Export  1501845863839"
      ]
     },
     "execution_count": 5,
     "metadata": {},
     "output_type": "execute_result"
    },
    {
     "data": {
      "text/html": [
       "<div>\n",
       "<style scoped>\n",
       "    .dataframe tbody tr th:only-of-type {\n",
       "        vertical-align: middle;\n",
       "    }\n",
       "\n",
       "    .dataframe tbody tr th {\n",
       "        vertical-align: top;\n",
       "    }\n",
       "\n",
       "    .dataframe thead th {\n",
       "        text-align: right;\n",
       "    }\n",
       "</style>\n",
       "<table border=\"1\" class=\"dataframe\">\n",
       "  <thead>\n",
       "    <tr style=\"text-align: right;\">\n",
       "      <th></th>\n",
       "      <th>YEAR</th>\n",
       "      <th>COUNTRY</th>\n",
       "      <th>FLOW</th>\n",
       "      <th>TRADE</th>\n",
       "      <th>FLOW_ADJ</th>\n",
       "      <th>TRADE_ADJ</th>\n",
       "    </tr>\n",
       "  </thead>\n",
       "  <tbody>\n",
       "    <tr>\n",
       "      <th>7946</th>\n",
       "      <td>2016</td>\n",
       "      <td>Sweden</td>\n",
       "      <td>Import</td>\n",
       "      <td>140725666141</td>\n",
       "      <td>Import</td>\n",
       "      <td>-140725666141</td>\n",
       "    </tr>\n",
       "    <tr>\n",
       "      <th>7947</th>\n",
       "      <td>2016</td>\n",
       "      <td>Sweden</td>\n",
       "      <td>Export</td>\n",
       "      <td>139610460248</td>\n",
       "      <td>Export</td>\n",
       "      <td>139610460248</td>\n",
       "    </tr>\n",
       "    <tr>\n",
       "      <th>7948</th>\n",
       "      <td>2015</td>\n",
       "      <td>Sweden</td>\n",
       "      <td>Import</td>\n",
       "      <td>138365394704</td>\n",
       "      <td>Import</td>\n",
       "      <td>-138365394704</td>\n",
       "    </tr>\n",
       "    <tr>\n",
       "      <th>7949</th>\n",
       "      <td>2015</td>\n",
       "      <td>Sweden</td>\n",
       "      <td>Export</td>\n",
       "      <td>140000674416</td>\n",
       "      <td>Export</td>\n",
       "      <td>140000674416</td>\n",
       "    </tr>\n",
       "    <tr>\n",
       "      <th>7950</th>\n",
       "      <td>2014</td>\n",
       "      <td>Sweden</td>\n",
       "      <td>Import</td>\n",
       "      <td>162257051136</td>\n",
       "      <td>Import</td>\n",
       "      <td>-162257051136</td>\n",
       "    </tr>\n",
       "  </tbody>\n",
       "</table>\n",
       "</div>"
      ],
      "text/plain": [
       "      YEAR COUNTRY    FLOW         TRADE FLOW_ADJ     TRADE_ADJ\n",
       "7946  2016  Sweden  Import  140725666141   Import -140725666141\n",
       "7947  2016  Sweden  Export  139610460248   Export  139610460248\n",
       "7948  2015  Sweden  Import  138365394704   Import -138365394704\n",
       "7949  2015  Sweden  Export  140000674416   Export  140000674416\n",
       "7950  2014  Sweden  Import  162257051136   Import -162257051136"
      ]
     },
     "execution_count": 5,
     "metadata": {},
     "output_type": "execute_result"
    }
   ],
   "source": [
    "country1 = 'USA'\n",
    "country2 = 'Sweden'\n",
    "\n",
    "data_us = data_clean[data_clean.COUNTRY == country1].copy()\n",
    "data_us.head()\n",
    "\n",
    "data_swe = data_clean[data_clean.COUNTRY == country2].copy()\n",
    "data_swe.head()"
   ]
  },
  {
   "cell_type": "code",
   "execution_count": 6,
   "metadata": {},
   "outputs": [],
   "source": [
    "# compare exports\n",
    "us_export_df = data_us[data_us.FLOW_ADJ == 'Export'].copy()\n",
    "swe_export_df = data_swe[data_swe.FLOW_ADJ == 'Export'].copy()\n",
    "\n",
    "grouped_us_exports = us_export_df.groupby('YEAR')['TRADE_ADJ'].sum() / 1000000000\n",
    "grouped_swe_exports = swe_export_df.groupby('YEAR')['TRADE_ADJ'].sum() / 1000000000"
   ]
  },
  {
   "cell_type": "code",
   "execution_count": 7,
   "metadata": {},
   "outputs": [],
   "source": [
    "def create_axes(adict):\n",
    "    \"\"\"takes a dictionary, sorts it, and returns ordered lists for x and y axes\"\"\"\n",
    "    key_list = []\n",
    "    value_list = []\n",
    "    x = []\n",
    "    y = []\n",
    "    key_list = list(adict.keys())\n",
    "    key_list.sort()\n",
    "    # print(key_list)\n",
    "    for key in key_list:\n",
    "        x_entry = key\n",
    "        y_entry = adict[key]\n",
    "        # print(x_entry)\n",
    "        # print(y_entry)\n",
    "        x.append(x_entry)\n",
    "        y.append(y_entry)\n",
    "    return x, y\n",
    "\n",
    "# get export values for plotting\n",
    "us_export_dict = grouped_us_exports.to_dict()\n",
    "swe_export_dict = grouped_swe_exports.to_dict()\n",
    "\n",
    "us_xaxis, us_yaxis = create_axes(us_export_dict)\n",
    "swe_xaxis, swe_yaxis = create_axes(swe_export_dict)"
   ]
  },
  {
   "cell_type": "code",
   "execution_count": 8,
   "metadata": {
    "scrolled": true
   },
   "outputs": [
    {
     "data": {
      "image/png": "[encoded data removed]",
      "text/plain": [
       "<matplotlib.figure.Figure at 0x7f472dd2a1d0>"
      ]
     },
     "metadata": {},
     "output_type": "display_data"
    }
   ],
   "source": [
    "def create_linegraphs(xname, yname, title, name1, name2, x1, y1, x2, y2):\n",
    "    \"\"\"plots a line graph from 2 different data sources\"\"\"\n",
    "    plt.figure(figsize=(10, 5))\n",
    "    plt.xlabel(xname)\n",
    "    plt.ylabel(yname)\n",
    "    plt.title(title)\n",
    "    line1 = plt.plot(x1,y1)\n",
    "    line2 = plt.plot(x2, y2)\n",
    "    plt.legend([name1, name2])\n",
    "    plt.show()\n",
    "\n",
    "the_x_label = 'Years'\n",
    "the_y_label = 'Exports (USD Billions)'\n",
    "graph_title = 'Exports Trends By Country'\n",
    "\n",
    "# create line graphs\n",
    "create_linegraphs(the_x_label, the_y_label, graph_title, country1, country2, us_xaxis, us_yaxis, swe_xaxis, swe_yaxis)"
   ]
  },
  {
   "cell_type": "markdown",
   "metadata": {},
   "source": [
    "<dt>Line Graph Inferences</dt>\n",
    "* The graph suggests the United States exports significantly more goods than Sweden\n",
    "* The export gap between the two countries has increased significantly and appears to have reached a 15x+ difference by 2015\n",
    "* Both countries' exports appear to ebb and flow in unison suggesting export drivers have become increasingly global over time "
   ]
  },
  {
   "cell_type": "code",
   "execution_count": 9,
   "metadata": {},
   "outputs": [
    {
     "data": {
      "image/png": "[encoded data removed]",
      "text/plain": [
       "<matplotlib.figure.Figure at 0x7f472542df98>"
      ]
     },
     "metadata": {},
     "output_type": "display_data"
    }
   ],
   "source": [
    "def create_histograms(xname, yname, title1, title2, y1, y2):\n",
    "    \"\"\"plots a line graph from 2 different data sources\"\"\"\n",
    "    plt.figure(figsize=(10, 5))\n",
    "    \n",
    "    plt.subplot(1, 2, 1)\n",
    "    plt.hist(y1, color='blue')    \n",
    "    plt.xlabel(xname)\n",
    "    plt.ylabel(yname)\n",
    "    plt.title(title1)\n",
    "    \n",
    "    plt.subplot(1, 2, 2)\n",
    "    plt.hist(y2, color='red')\n",
    "    plt.xlabel(xname)\n",
    "    plt.ylabel(yname)\n",
    "    plt.title(title2)\n",
    "    plt.show()\n",
    "\n",
    "the_x_label = 'Export Values (USD Billions)'\n",
    "the_y_label = 'Value Frequency'\n",
    "graph_title1 = 'US Export Distribution'\n",
    "graph_title2 = 'Swedish Export Distribution'\n",
    "\n",
    "# create line graphs\n",
    "create_histograms(the_x_label, the_y_label, graph_title1, graph_title2, us_yaxis, swe_yaxis)"
   ]
  },
  {
   "cell_type": "markdown",
   "metadata": {},
   "source": [
    "<dt>Histogram Inferences</dt>\n",
    "* This graph confirms our inference from the line graph that the US exports significantly more than Sweden\n",
    "* Interestingly, these two histograms appear to show a similar frequency of hitting high values\n",
    "* Finally, it appears that, although lower, Sweden's exports are less volatile"
   ]
  },
  {
   "cell_type": "code",
   "execution_count": 10,
   "metadata": {
    "scrolled": true
   },
   "outputs": [
    {
     "data": {
      "image/png": "[encoded data removed]",
      "text/plain": [
       "<matplotlib.figure.Figure at 0x7f47252b8c50>"
      ]
     },
     "metadata": {},
     "output_type": "display_data"
    }
   ],
   "source": [
    "def create_boxplots(yname, title1, title2, y1, y2):\n",
    "    \"\"\"plots a line graph from 2 different data sources\"\"\"\n",
    "    plt.figure(figsize=(10, 5))\n",
    "    \n",
    "    plt.subplot(1, 2, 1)\n",
    "    plt.ylabel(yname)\n",
    "    plt.title(title1)\n",
    "    plt.boxplot(y1)\n",
    "    \n",
    "    plt.subplot(1, 2, 2)\n",
    "    plt.ylabel(yname)\n",
    "    plt.title(title2)\n",
    "    plt.boxplot(y2)\n",
    "    plt.show()\n",
    "\n",
    "the_y_label = 'Percentile Distribution'\n",
    "graph_title1 = 'US Export Data'\n",
    "graph_title2 = 'Swedish Export Data'\n",
    "\n",
    "# create line graphs\n",
    "create_boxplots(the_y_label, graph_title1, graph_title2, us_yaxis, swe_yaxis)"
   ]
  },
  {
   "cell_type": "markdown",
   "metadata": {},
   "source": [
    "<dt>BoxPlot Inferences</dt>\n",
    "\n",
    "* As with all the graphs thus far, this one shows the significant difference in exports but this time in percentiles\n",
    "* As visual proof, US median exports appear to be approximately 900 billion USD while Swedish median exports appear to be approximately 130 billion USD\n",
    "* The fact that the US exports median line is low compared to the overall rectangle shows that data is skewed with numerous outliers on the high side"
   ]
  },
  {
   "cell_type": "code",
   "execution_count": 11,
   "metadata": {},
   "outputs": [
    {
     "data": {
      "image/png": "[encoded data removed]",
      "text/plain": [
       "<matplotlib.figure.Figure at 0x7f47251dd748>"
      ]
     },
     "metadata": {},
     "output_type": "display_data"
    }
   ],
   "source": [
    "def create_scattergraph(xname, yname, title, x, y):\n",
    "    \"\"\"plots a line graph from 2 different data sources\"\"\"\n",
    "    plt.figure(figsize=(10, 5))\n",
    "    plt.xlabel(xname)\n",
    "    plt.ylabel(yname)\n",
    "    plt.title(title)\n",
    "    plt.scatter(x, y, s=[90], marker='*')\n",
    "    z = np.polyfit(x, y, 1)\n",
    "    p = np.poly1d(z)\n",
    "    plb.plot(x, p(x), 'm-')\n",
    "    plt.show()\n",
    "\n",
    "the_x_label = 'Years'\n",
    "the_y_label = 'Exports (USD Billions)'\n",
    "graph_title = 'US Exports Trend'\n",
    "\n",
    "# create line graphs\n",
    "create_scattergraph(the_x_label, the_y_label, graph_title, us_xaxis, us_yaxis)"
   ]
  },
  {
   "cell_type": "markdown",
   "metadata": {},
   "source": [
    "<dt>Scatterplot Inferences</dt>\n",
    "* The most noticable thing from this graph is the trend line shows a steady increase in exports over time\n",
    "* Exports drop significantly below the trendline in the early 2000s - likely in response to the 2000 .com crash\n",
    "* However, between 2010 and 2015, exports significantly exceeded the trend line.  The decline after this period may suggest we are approaching another market correction."
   ]
  }
 ],
 "metadata": {
  "kernelspec": {
   "display_name": "Python 3",
   "language": "python",
   "name": "python3"
  },
  "language_info": {
   "codemirror_mode": {
    "name": "ipython",
    "version": 3
   },
   "file_extension": ".py",
   "mimetype": "text/x-python",
   "name": "python",
   "nbconvert_exporter": "python",
   "pygments_lexer": "ipython3",
   "version": "3.6.4"
  }
 },
 "nbformat": 4,
 "nbformat_minor": 2
}
